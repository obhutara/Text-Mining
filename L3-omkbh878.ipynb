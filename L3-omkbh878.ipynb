{
 "cells": [
  {
   "cell_type": "markdown",
   "metadata": {},
   "source": [
    "# L3: Text clustering and topic modelling"
   ]
  },
  {
   "cell_type": "markdown",
   "metadata": {},
   "source": [
    "Text clustering groups documents in such a way that documents within a group are more &lsquo;similar&rsquo; to other documents in the cluster than to documents not in the cluster. The exact definition of what &lsquo;similar&rsquo; means in this context varies across applications and clustering algorithms.\n",
    "\n",
    "In this lab you will experiment with both hard and soft clustering techniques. More specifically, in the first part you will be using the $k$-means algorithm, and in the second part you will be using a topic model based on the Latent Dirichlet Allocation (LDA)."
   ]
  },
  {
   "cell_type": "markdown",
   "metadata": {},
   "source": [
    "## Hard clustering data set"
   ]
  },
  {
   "cell_type": "markdown",
   "metadata": {},
   "source": [
    "The raw data for the hard clustering part of this lab is a collection of product reviews. We have preprocessed the data by tokenization and lowercasing."
   ]
  },
  {
   "cell_type": "code",
   "execution_count": 2,
   "metadata": {},
   "outputs": [],
   "source": [
    "import pandas as pd\n",
    "import bz2\n",
    "\n",
    "with bz2.open(\"reviews.json.bz2\") as source:\n",
    "    df = pd.read_json(source)"
   ]
  },
  {
   "cell_type": "markdown",
   "metadata": {},
   "source": [
    "When you inspect the data frame, you can see that there are three labelled columns: `category` (the product category), `sentiment` (whether the product review was classified as &lsquo;positive&rsquo; or &lsquo;negative&rsquo; towards the product), and `text` (the space-separated text of the review)."
   ]
  },
  {
   "cell_type": "code",
   "execution_count": 3,
   "metadata": {},
   "outputs": [
    {
     "data": {
      "text/html": [
       "<div>\n",
       "<style scoped>\n",
       "    .dataframe tbody tr th:only-of-type {\n",
       "        vertical-align: middle;\n",
       "    }\n",
       "\n",
       "    .dataframe tbody tr th {\n",
       "        vertical-align: top;\n",
       "    }\n",
       "\n",
       "    .dataframe thead th {\n",
       "        text-align: right;\n",
       "    }\n",
       "</style>\n",
       "<table border=\"1\" class=\"dataframe\">\n",
       "  <thead>\n",
       "    <tr style=\"text-align: right;\">\n",
       "      <th></th>\n",
       "      <th>category</th>\n",
       "      <th>sentiment</th>\n",
       "      <th>text</th>\n",
       "    </tr>\n",
       "  </thead>\n",
       "  <tbody>\n",
       "    <tr>\n",
       "      <th>0</th>\n",
       "      <td>music</td>\n",
       "      <td>neg</td>\n",
       "      <td>i bought this album because i loved the title ...</td>\n",
       "    </tr>\n",
       "    <tr>\n",
       "      <th>1</th>\n",
       "      <td>music</td>\n",
       "      <td>neg</td>\n",
       "      <td>i was misled and thought i was buying the enti...</td>\n",
       "    </tr>\n",
       "    <tr>\n",
       "      <th>2</th>\n",
       "      <td>books</td>\n",
       "      <td>neg</td>\n",
       "      <td>i have introduced many of my ell , high school...</td>\n",
       "    </tr>\n",
       "    <tr>\n",
       "      <th>3</th>\n",
       "      <td>books</td>\n",
       "      <td>pos</td>\n",
       "      <td>anything you purchase in the left behind serie...</td>\n",
       "    </tr>\n",
       "    <tr>\n",
       "      <th>4</th>\n",
       "      <td>dvd</td>\n",
       "      <td>pos</td>\n",
       "      <td>i loved these movies , and i cant wiat for the...</td>\n",
       "    </tr>\n",
       "  </tbody>\n",
       "</table>\n",
       "</div>"
      ],
      "text/plain": [
       "  category sentiment                                               text\n",
       "0    music       neg  i bought this album because i loved the title ...\n",
       "1    music       neg  i was misled and thought i was buying the enti...\n",
       "2    books       neg  i have introduced many of my ell , high school...\n",
       "3    books       pos  anything you purchase in the left behind serie...\n",
       "4      dvd       pos  i loved these movies , and i cant wiat for the..."
      ]
     },
     "execution_count": 3,
     "metadata": {},
     "output_type": "execute_result"
    }
   ],
   "source": [
    "df.head()"
   ]
  },
  {
   "cell_type": "markdown",
   "metadata": {},
   "source": [
    "## Problem 1: K-means clustering"
   ]
  },
  {
   "cell_type": "markdown",
   "metadata": {},
   "source": [
    "Your first task is to cluster the product review data using a tf–idf vectorizer and a $k$-means clusterer."
   ]
  },
  {
   "cell_type": "markdown",
   "metadata": {},
   "source": [
    "Start by doing the vectorization. In connection with vectorization, you should also filter out standard English stop words. While you could use [spaCy](https://spacy.io/) for this task, here it suffices to use the word list implemented in [TfidfVectorizer](https://scikit-learn.org/stable/modules/generated/sklearn.feature_extraction.text.TfidfVectorizer.html)."
   ]
  },
  {
   "cell_type": "code",
   "execution_count": 4,
   "metadata": {},
   "outputs": [],
   "source": [
    "# TODO: Enter code here to vectorize the data\n",
    "import numpy as np\n",
    "from sklearn.feature_extraction.text import TfidfVectorizer\n",
    "tfidf_vectorizer = TfidfVectorizer(stop_words = 'english',use_idf=True)\n",
    "reviews = tfidf_vectorizer.fit_transform(df[\"text\"])\n",
    "#print(vectorizer.get_feature_names())"
   ]
  },
  {
   "cell_type": "markdown",
   "metadata": {},
   "source": [
    "Test your vectorization by running the following code cell:"
   ]
  },
  {
   "cell_type": "code",
   "execution_count": 5,
   "metadata": {},
   "outputs": [
    {
     "data": {
      "text/plain": [
       "(11914, 46619)"
      ]
     },
     "execution_count": 5,
     "metadata": {},
     "output_type": "execute_result"
    }
   ],
   "source": [
    "reviews.shape"
   ]
  },
  {
   "cell_type": "markdown",
   "metadata": {},
   "source": [
    "If you used the English stop word list from scikit-learn, then the resulting vocabulary should have 46,619 entries."
   ]
  },
  {
   "cell_type": "markdown",
   "metadata": {},
   "source": [
    "Next, cluster the vectorized data. Before doing so, you should read the documentation of the [KMeans](https://scikit-learn.org/stable/modules/generated/sklearn.cluster.KMeans.html) class, which is scikit-learn&rsquo;s implementation of the $k$-means algorithm. As you can see, this class has several parameters that you can tweak. For now, the only parameter that you will have to set is the number of clusters. We recommend that you choose $k=3$.\n",
    "\n",
    "**Tip:** Training $k$-means models will take some time. To speed things up, you can use the `n_init` parameter to control the number of times that the clustering is re-computed with different initial values. The default value for this parameter is 10; here and in the rest of this lab, you may want to set this to a lower value."
   ]
  },
  {
   "cell_type": "code",
   "execution_count": 15,
   "metadata": {},
   "outputs": [],
   "source": [
    "# TODO: Enter code here to cluster the vectorized data\n",
    "from sklearn.cluster import KMeans, MiniBatchKMeans\n",
    "kmeans3 = KMeans(n_clusters=3,n_init=8,n_jobs=-1).fit(reviews)"
   ]
  },
  {
   "cell_type": "markdown",
   "metadata": {},
   "source": [
    "To sanity-check your clustering, create a bar plot with the number of documents per cluster."
   ]
  },
  {
   "cell_type": "code",
   "execution_count": 16,
   "metadata": {},
   "outputs": [
    {
     "data": {
      "image/png": "[encoded data removed]",
      "text/plain": [
       "<Figure size 640x480 with 1 Axes>"
      ]
     },
     "metadata": {},
     "output_type": "display_data"
    }
   ],
   "source": [
    "# TODO: Enter code here to produce a bar plot of the cluster size\n",
    "import matplotlib.pyplot as plt; plt.rcdefaults()\n",
    "import numpy as np\n",
    "import matplotlib.pyplot as plt\n",
    "\n",
    "cluster_labels = pd.DataFrame(kmeans3.labels_)\n",
    "\n",
    "\n",
    "objects = ('0', '1', '2')\n",
    "y_pos = np.arange(len(objects))\n",
    "counts = cluster_labels.groupby(0).size().tolist()\n",
    "\n",
    "plt.barh(y_pos, counts, align='center', alpha=0.5)\n",
    "plt.yticks(y_pos, objects)\n",
    "plt.xlabel('Number of Documents')\n",
    "plt.ylabel('Cluster')\n",
    "plt.title('Number of documents per cluster')\n",
    "\n",
    "plt.show()"
   ]
  },
  {
   "cell_type": "code",
   "execution_count": 17,
   "metadata": {},
   "outputs": [
    {
     "data": {
      "image/png": "[encoded data removed]",
      "text/plain": [
       "<Figure size 640x480 with 1 Axes>"
      ]
     },
     "metadata": {},
     "output_type": "display_data"
    }
   ],
   "source": [
    "kmeans6 = KMeans(n_clusters=6,n_init=8,n_jobs=-1).fit(reviews)\n",
    "cluster_labels2 = pd.DataFrame(kmeans6.labels_)\n",
    "objects2 = ('0', '1', '2', '3', '4', '5')\n",
    "y_pos2 = np.arange(len(objects2))\n",
    "counts2 = cluster_labels2.groupby(0).size().tolist()\n",
    "\n",
    "plt.barh(y_pos2, counts2, align='center', alpha=0.5)\n",
    "plt.yticks(y_pos2, objects2)\n",
    "plt.xlabel('Number of Documents')\n",
    "plt.ylabel('Cluster')\n",
    "plt.title('Number of documents per cluster')\n",
    "\n",
    "plt.show()"
   ]
  },
  {
   "cell_type": "markdown",
   "metadata": {},
   "source": [
    "Note that sizes may vary considerable between clusters and among different random seeds."
   ]
  },
  {
   "cell_type": "markdown",
   "metadata": {},
   "source": [
    "## Problem 2: Summarize clusters"
   ]
  },
  {
   "cell_type": "markdown",
   "metadata": {},
   "source": [
    "Once you have a clustering, you can try to see whether it is meaningful. One useful technique in that context is to generate a **summary** for each cluster by extracting the $n$ highest-weighted terms from the centroid of each cluster. Your next task is to implement this approach.\n",
    "\n",
    "**Hint:** You will need to construct an &lsquo;inverted vocabulary&rsquo; that allows you to map from the index of a term back to the original term."
   ]
  },
  {
   "cell_type": "code",
   "execution_count": 18,
   "metadata": {},
   "outputs": [
    {
     "name": "stdout",
     "output_type": "stream",
     "text": [
      "Enter your value: 5\n",
      "\n",
      "\n",
      "The cluster number 1\n",
      "     term  Centroid\n",
      "0    book  0.149350\n",
      "1    quot  0.057593\n",
      "2    read  0.043491\n",
      "3   books  0.024154\n",
      "4  author  0.020677\n",
      "\n",
      "\n",
      "The cluster number 2\n",
      "       term  Centroid\n",
      "0    camera  0.198927\n",
      "1      lens  0.068496\n",
      "2  pictures  0.060990\n",
      "3     canon  0.036878\n",
      "4   digital  0.034205\n",
      "\n",
      "\n",
      "The cluster number 3\n",
      "      term  Centroid\n",
      "0     like  0.018483\n",
      "1  product  0.017770\n",
      "2    movie  0.017492\n",
      "3    great  0.017387\n",
      "4     just  0.017194\n"
     ]
    }
   ],
   "source": [
    "# TODO: Enter code here to compute the cluster summaries and print them\n",
    "n = int(input(\"Enter your value: \"))\n",
    "centroids3 = pd.DataFrame(kmeans3.cluster_centers_).transpose()\n",
    "for i in range(centroids3.shape[1]): \n",
    "    terms3 = dict(zip(tfidf_vectorizer.get_feature_names()\n",
    "                      ,centroids3.iloc[:,i]))\n",
    "    sortedterms3 = sorted(terms3.items(),key = lambda x:x[1],reverse=True)\n",
    "    print(\"\\n\")\n",
    "    print(\"The cluster number\",i+1)\n",
    "    print(pd.DataFrame(sortedterms3[:n]).rename(\n",
    "        columns={0:\"term\",1:\"Centroid\"}))"
   ]
  },
  {
   "cell_type": "code",
   "execution_count": 19,
   "metadata": {},
   "outputs": [
    {
     "name": "stdout",
     "output_type": "stream",
     "text": [
      "Enter your value: 5\n",
      "\n",
      "\n",
      "The cluster number 1\n",
      "      term  Centroid\n",
      "0     book  0.164837\n",
      "1     read  0.047870\n",
      "2    books  0.026839\n",
      "3   author  0.022579\n",
      "4  reading  0.020131\n",
      "\n",
      "\n",
      "The cluster number 2\n",
      "       term  Centroid\n",
      "0  software  0.062729\n",
      "1   program  0.053192\n",
      "2   product  0.037677\n",
      "3   version  0.037543\n",
      "4  computer  0.032944\n",
      "\n",
      "\n",
      "The cluster number 3\n",
      "      term  Centroid\n",
      "0  product  0.020272\n",
      "1    great  0.016339\n",
      "2     good  0.015478\n",
      "3      use  0.015089\n",
      "4     like  0.014937\n",
      "\n",
      "\n",
      "The cluster number 4\n",
      "     term  Centroid\n",
      "0   movie  0.151871\n",
      "1    film  0.072057\n",
      "2  movies  0.025307\n",
      "3    like  0.023497\n",
      "4   story  0.023172\n",
      "\n",
      "\n",
      "The cluster number 5\n",
      "    term  Centroid\n",
      "0  album  0.079911\n",
      "1     cd  0.074489\n",
      "2  music  0.050926\n",
      "3  songs  0.049756\n",
      "4   quot  0.042603\n",
      "\n",
      "\n",
      "The cluster number 6\n",
      "       term  Centroid\n",
      "0    camera  0.205580\n",
      "1      lens  0.067620\n",
      "2  pictures  0.063172\n",
      "3     canon  0.035973\n",
      "4   digital  0.033513\n"
     ]
    }
   ],
   "source": [
    "# Clustering with k = 6\n",
    "n = int(input(\"Enter your value: \"))\n",
    "centroids6 = pd.DataFrame(kmeans6.cluster_centers_).transpose()\n",
    "for i in range(centroids6.shape[1]): \n",
    "    terms6 = dict(zip(tfidf_vectorizer.get_feature_names()\n",
    "                      ,centroids6.iloc[:,i]))\n",
    "    sortedterms6 = sorted(terms6.items(),key = lambda x:x[1],reverse=True)\n",
    "    print(\"\\n\")\n",
    "    print(\"The cluster number\",i+1)\n",
    "    print(pd.DataFrame(sortedterms6[:n]).rename(\n",
    "        columns={0:\"term\",1:\"Centroid\"}))"
   ]
  },
  {
   "cell_type": "markdown",
   "metadata": {},
   "source": [
    "Once you have computed the cluster summaries, discuss their quality. Is it clear what the reviews in a given cluster are about? Which clusters are clearest? Which are less clear? Do the cluster summaries contain any unexpected terms? What happens if you re-cluster with, say, $k=6$?"
   ]
  },
  {
   "cell_type": "markdown",
   "metadata": {},
   "source": [
    "*The quality of clustering with 3 clusters is low as 2 out 3 clusters are ambiguous about the content, mixing up media-types such as books,movie,cd,album in cluster 3 and product/software/program in cluser 1. Only cluster 2 is of fair quality with camera being the main content.\n",
    "Unexpected terms such as like,use,does are present with high centroid values.\n",
    "The quality of clustering with 6 clusters improves, as all the clusters now are more clear and have well defined boundaries such as books , music and movies are clustered separately. This vastly improves the quality.*"
   ]
  },
  {
   "cell_type": "markdown",
   "metadata": {},
   "source": [
    "## Problem 3: Tune the k-means algorithm"
   ]
  },
  {
   "cell_type": "markdown",
   "metadata": {},
   "source": [
    "A major limitation of the $k$-means algorithm is that one has to manually set the value for $k$, the number of clusters. One heuristic that can help you with this is the [Elbow method](https://en.wikipedia.org/wiki/Elbow_method_(clustering)). Your next task is to implement this method to see whether it allows you to find a better value for $k$.\n",
    "\n",
    "To follow the elbow method, you should plot different values of $k$ against the **inertia** (sums of squared distances between documents and closest centroids) of the fitted $k$-means model, and pick the $k$ at the &lsquo;elbow point&rsquo; of the resulting graph. Test cluster sizes between 1 and 9.\n",
    "\n",
    "**Note that this will take a while.**"
   ]
  },
  {
   "cell_type": "code",
   "execution_count": 20,
   "metadata": {},
   "outputs": [
    {
     "name": "stdout",
     "output_type": "stream",
     "text": [
      "[11764.202585909865, 11696.56159234875, 11655.854642045837, 11613.389689605778, 11578.79141795149, 11549.349572578383, 11517.907226042009, 11497.824056468986, 11470.81363329123]\n"
     ]
    }
   ],
   "source": [
    "# TODO: Enter code here to generate the plot for the elbow method\n",
    "elbow_inertia = []\n",
    "for x in range(1,10):\n",
    "    kmeans = KMeans(n_clusters=x,n_init=8,n_jobs=-1).fit(reviews)\n",
    "    inertias = kmeans.inertia_\n",
    "    elbow_inertia.append(inertias)\n",
    "print(elbow_inertia)"
   ]
  },
  {
   "cell_type": "code",
   "execution_count": 21,
   "metadata": {},
   "outputs": [
    {
     "data": {
      "text/plain": [
       "<function matplotlib.pyplot.show(*args, **kw)>"
      ]
     },
     "execution_count": 21,
     "metadata": {},
     "output_type": "execute_result"
    },
    {
     "data": {
      "image/png": "[encoded data removed]",
      "text/plain": [
       "<Figure size 640x480 with 1 Axes>"
      ]
     },
     "metadata": {},
     "output_type": "display_data"
    }
   ],
   "source": [
    "import matplotlib.pyplot as plt\n",
    "#Elbow method\n",
    "plt.plot(range(1,10),elbow_inertia\n",
    "         ,marker = 'D',markevery=[7]\n",
    "         ,color = 'm',linewidth = 0.8)\n",
    "plt.xlabel('Number of Clusters')\n",
    "plt.ylabel('Distortion of inertias')\n",
    "plt.title('Elbow point (optimum k)')\n",
    "plt.show"
   ]
  },
  {
   "cell_type": "markdown",
   "metadata": {},
   "source": [
    "Once you have the diagram, can you see a pronounced &lsquo;elbow point&rsquo;? Discuss your findings in a short text."
   ]
  },
  {
   "cell_type": "markdown",
   "metadata": {},
   "source": [
    "*A pronounced elbow point is not present which is unexpected. A choice of higher number of max k value may present k=8 as the elbow point which has a low enough distortion value which is linearly reducing with increase in number of clusters*"
   ]
  },
  {
   "cell_type": "markdown",
   "metadata": {},
   "source": [
    "## Problem 4: Compare clusterings using the Rand index"
   ]
  },
  {
   "cell_type": "markdown",
   "metadata": {},
   "source": [
    "In some scenarios, you may have gold-standard class labels available for at least a subset of your documents. In these cases you can compute the **Rand index** of a clustering, and use this measure to compare the quality of different clusterings.\n",
    "\n",
    "To compute the Rand index, we view a clustering as a binary classifier on pairs of documents. The classifier predicts &lsquo;positive&rsquo; if and only if the two documents belong to the same cluster. The (non-normalized) Rand index of the clustering is the accuracy of this classifier relative to a reference in which a document pair belongs to the &lsquo;positive&rsquo; class if and only if the two documents in the pair have the same gold-standard class label.\n",
    "\n",
    "Compare a clustering with $k=3$ clusters to a second clustering with $k=6$ clusters. As your evaluation data, use the first 500 documents from the original data set along with their gold-standard categories (from the `category` column). What do you observe? How do you interpret your observations? What arguments can you find against the Rand index as a measure for comparing clusterings?"
   ]
  },
  {
   "cell_type": "code",
   "execution_count": 22,
   "metadata": {},
   "outputs": [],
   "source": [
    "# TODO: Enter code here to compute the Rand indices for the two clusterings\n",
    "from sklearn import metrics\n",
    "sample = df[0:500]\n",
    "sample_reviews = tfidf_vectorizer.fit_transform(sample[\"text\"])\n",
    "labels_true = sample.category.tolist()\n",
    "kmeans3_sample = KMeans(n_clusters=3\n",
    "                        ,n_init=8,n_jobs=-1).fit(sample_reviews)\n",
    "kmeans6_sample = KMeans(n_clusters=6\n",
    "                        ,n_init=8,n_jobs=-1).fit(sample_reviews)"
   ]
  },
  {
   "cell_type": "code",
   "execution_count": 23,
   "metadata": {},
   "outputs": [],
   "source": [
    "#part of the function implemented here is referred from the link given below:\n",
    "#https://stackoverflow.com/questions/49586742/rand-index-function-clustering-performance-evaluation\n",
    "from scipy.special import comb\n",
    "from itertools import combinations\n",
    "import numpy as np\n",
    "\n",
    "def rand_score (labels_true, labels_pred):\n",
    "    my_pair = list(combinations(range(len(labels_true)), 2)) #create list of all combinations with the length of labels.\n",
    "    def is_equal(x):\n",
    "        return (x[0]==x[1])\n",
    "    my_a = 0\n",
    "    my_b = 0\n",
    "    for i in range(len(my_pair)):\n",
    "            if(is_equal((labels_true[my_pair[i][0]],labels_true[my_pair[i][1]])) == is_equal((labels_pred[my_pair[i][0]],labels_pred[my_pair[i][1]])) \n",
    "               and is_equal((labels_pred[my_pair[i][0]],labels_pred[my_pair[i][1]])) == True):\n",
    "                my_a += 1\n",
    "            if(is_equal((labels_true[my_pair[i][0]],labels_true[my_pair[i][1]])) == is_equal((labels_pred[my_pair[i][0]],labels_pred[my_pair[i][1]])) \n",
    "               and is_equal((labels_pred[my_pair[i][0]],labels_pred[my_pair[i][1]])) == False):\n",
    "                my_b += 1\n",
    "    my_denom = comb(len(labels_true),2)\n",
    "    ri = (my_a + my_b) / my_denom\n",
    "    return ri"
   ]
  },
  {
   "cell_type": "code",
   "execution_count": 24,
   "metadata": {},
   "outputs": [
    {
     "name": "stdout",
     "output_type": "stream",
     "text": [
      "The rand index is 62.8 %\n",
      "The adjusted rand score is 20.45 %\n"
     ]
    }
   ],
   "source": [
    "#rand score for k=3\n",
    "labels_pred = kmeans3_sample.predict(sample_reviews).tolist()\n",
    "score = metrics.adjusted_rand_score(labels_true,labels_pred)\n",
    "print(\"The rand index is\",round(rand_score(labels_true, labels_pred)*100,2),\"%\")\n",
    "print(\"The adjusted rand score is\",round(score*100,2),\"%\")"
   ]
  },
  {
   "cell_type": "code",
   "execution_count": 25,
   "metadata": {},
   "outputs": [
    {
     "name": "stdout",
     "output_type": "stream",
     "text": [
      "The rand index is 78.6 %\n",
      "The adjusted rand score is 33.55 %\n"
     ]
    }
   ],
   "source": [
    "#rand score for k=6\n",
    "labels_pred = kmeans6_sample.predict(sample_reviews).tolist()\n",
    "score = metrics.adjusted_rand_score(labels_true,labels_pred)\n",
    "print(\"The rand index is\",round(rand_score(labels_true, labels_pred)*100,2),\"%\")\n",
    "print(\"The adjusted rand score is\",round(score*100,2),\"%\")"
   ]
  },
  {
   "cell_type": "markdown",
   "metadata": {},
   "source": [
    "*The rand index is calculated as $R=\\frac{a+b}{\\begin{pmatrix} n \\\\ 2\\end{pmatrix}}$, where a is the number of times a pair of elements is grouped together by the clustering methods and b is when they are not. n refers to the number of elements present.\n",
    "Here, we compare the given categories i.e true labels to the clustering with k=3,6; The adjusted rand index is the rand index adjusted for chance is between -1 and 1, which in our case shows that k=6 is effective.\n",
    "ARI = (RI - Expected_RI) / (max(RI) - Expected_RI)\n",
    "Disadvantages of Rand index:\n",
    "-scale from 0 to 1 so it cannot be compared with a random set, ARI between -1 and 1 proves to useful here\n",
    "-accountability due to overlap of pairs is absent, can be taken care with ARI\n",
    "-High RI but low ARI, when there are many clusters, there is a higher chance that a pair of items in both sets are in different clusters.*"
   ]
  },
  {
   "cell_type": "markdown",
   "metadata": {},
   "source": [
    "## Topic modelling data set"
   ]
  },
  {
   "cell_type": "markdown",
   "metadata": {},
   "source": [
    "The data set for the topic modelling part of this lab is the collection of all [State of the Union](https://en.wikipedia.org/wiki/State_of_the_Union) addresses from the years 1975–2000. These speeches come as a single text file with one sentence per line. The following code cell prints the first 5 lines from the data file:"
   ]
  },
  {
   "cell_type": "code",
   "execution_count": 26,
   "metadata": {},
   "outputs": [
    {
     "name": "stdout",
     "output_type": "stream",
     "text": [
      "mr speaker mr vice president members of the 94th congress and distinguished guests\n",
      "twenty six years ago a freshman congressman a young fellow with lots of idealism who was out to change the world stood before sam rayburn in the well of the house and solemnly swore to the same oath that all of you took yesterday an unforgettable experience and i congratulate you all\n",
      "two days later that same freshman stood at the back of this great chamber over there someplace as president truman all charged up by his single handed election victory reported as the constitution requires on the state of the union\n",
      "when the bipartisan applause stopped president truman said i am happy to report to this 81st congress that the state of the union is good our nation is better able than ever before to meet the needs of the american people and to give them their fair chance in the pursuit of happiness it is foremost among the nations of the world in the search for peace\n",
      "today that freshman member from michigan stands where mr truman stood and i must say to you that the state of the union is not good\n",
      "millions of americans are out of work\n"
     ]
    }
   ],
   "source": [
    "with open(\"sotu_1975_2000.txt\") as source:\n",
    "    for i, line in enumerate(source):\n",
    "        print(line.rstrip())\n",
    "        if i >= 5:\n",
    "            break"
   ]
  },
  {
   "cell_type": "markdown",
   "metadata": {},
   "source": [
    "## Problem 5: Train a topic model"
   ]
  },
  {
   "cell_type": "markdown",
   "metadata": {},
   "source": [
    "Your first task on the topic modelling data is to train an LDA model. For this task you will be using [spaCy](https://spacy.io/) and the [gensim](https://radimrehurek.com/gensim/) topic modelling library.\n",
    "\n",
    "Start by preprocessing the data using spaCy. Given that the data set for this problem is rather small, you do not have to exclude any components from the standard pipeline. Filter out stop words, non-alphabetic tokens, and tokens less than 3 characters in length. Store the documents as a nested list where the first level of nesting corresponds to the sentences and the second level corresponds to the tokens in each sentence."
   ]
  },
  {
   "cell_type": "code",
   "execution_count": 27,
   "metadata": {},
   "outputs": [],
   "source": [
    "# TODO: Replace the following lines with your own code for preprocessing the documents\n",
    "import spacy\n",
    "nlp = spacy.load(\"en_core_web_sm\",disable=[\"tagger\", \"parser\",\"ner\"])\n",
    "def preprocess(text): \n",
    "    token_list = []\n",
    "    for word in text:\n",
    "        for token in nlp(word):\n",
    "            if(token.is_stop):\n",
    "                break\n",
    "            elif(token.is_alpha!=True):\n",
    "                break\n",
    "            elif(len(token) <= 2):\n",
    "                break\n",
    "            token_list.append(token.text)    \n",
    "    return token_list\n",
    "\n",
    "docs = list()\n",
    "with open(\"sotu_1975_2000.txt\") as source:\n",
    "    documents = [line.split() for line in source]\n",
    "    for text in documents:\n",
    "        docs.append(preprocess(text))\n",
    "        \n",
    "\n",
    "#            if token.is_stop == False and token.is_alpha == True:\n",
    "#                if token.lemma_.isalpha():\n",
    "#                    token_list.append(token.text)        "
   ]
  },
  {
   "cell_type": "markdown",
   "metadata": {},
   "source": [
    "Test your preprocessing by running the following cell:"
   ]
  },
  {
   "cell_type": "code",
   "execution_count": 28,
   "metadata": {},
   "outputs": [
    {
     "data": {
      "text/plain": [
       "'reduce oil imports million barrels day end year million barrels day end'"
      ]
     },
     "execution_count": 28,
     "metadata": {},
     "output_type": "execute_result"
    }
   ],
   "source": [
    "\" \".join(docs[42])"
   ]
  },
  {
   "cell_type": "markdown",
   "metadata": {},
   "source": [
    "You should get the following output:"
   ]
  },
  {
   "cell_type": "raw",
   "metadata": {},
   "source": [
    "'reduce oil imports million barrels day end year million barrels day end'"
   ]
  },
  {
   "cell_type": "markdown",
   "metadata": {},
   "source": [
    "Once you have the list of documents, skim the section [Pre-process and vectorize the documents](https://radimrehurek.com/gensim/auto_examples/tutorials/run_lda.html#pre-process-and-vectorize-the-documents) of the gensim documentation to learn how to create the dictionary and the vectorized corpus representation required by gensim. (Note that you cannot use the standard scikit-learn pipeline in this case.) Then, write code to train an [LdaModel](https://radimrehurek.com/gensim/models/ldamodel.html) for $k=10$ topics, and using default values for all other parameters."
   ]
  },
  {
   "cell_type": "code",
   "execution_count": 29,
   "metadata": {},
   "outputs": [
    {
     "name": "stdout",
     "output_type": "stream",
     "text": [
      "Number of unique tokens: 705\n",
      "Number of documents: 2898\n"
     ]
    }
   ],
   "source": [
    "# TODO: Enter code here to train an LDA model\n",
    "from gensim.corpora import Dictionary\n",
    "from gensim.models import LdaModel\n",
    "# Create a dictionary representation of the documents.\n",
    "dictionary = Dictionary(docs)\n",
    "\n",
    "# Filter out words that occur less than 20 documents, or more than 50% of the documents.\n",
    "dictionary.filter_extremes(no_below=20, no_above=0.5)\n",
    "\n",
    "# Bag-of-words representation of the documents.\n",
    "corpus = [dictionary.doc2bow(text) for text in docs]\n",
    "model = LdaModel(corpus, num_topics=10)\n",
    "print('Number of unique tokens: %d' % len(dictionary))\n",
    "print('Number of documents: %d' % len(corpus))"
   ]
  },
  {
   "cell_type": "code",
   "execution_count": 41,
   "metadata": {},
   "outputs": [
    {
     "name": "stdout",
     "output_type": "stream",
     "text": [
      "['children', 'america', 'work', 'welfare', 'people', 'let', 'child', 'years', 'care', 'parents']\n",
      "['tax', 'middle', 'economic', 'peace', 'people', 'growth', 'work', 'american', 'rates', 'year']\n",
      "['people', 'america', 'let', 'congress', 'world', 'new', 'american', 'year', 'time', 'nation']\n",
      "['people', 'tax', 'children', 'americans', 'health', 'government', 'america', 'new', 'year', 'american']\n",
      "['government', 'crime', 'year', 'congress', 'new', 'teachers', 'people', 'care', 'federal', 'years']\n",
      "['new', 'congress', 'nuclear', 'president', 'medicare', 'government', 'members', 'world', 'fellow', 'american']\n",
      "['america', 'new', 'year', 'children', 'century', 'work', 'tonight', 'world', 'people', 'americans']\n",
      "['trade', 'new', 'american', 'work', 'america', 'nation', 'know', 'markets', 'challenge', 'world']\n",
      "['years', 'year', 'new', 'million', 'budget', 'billion', 'congress', 'tax', 'national', 'support']\n",
      "['security', 'social', 'america', 'americans', 'years', 'help', 'world', 'work', 'people', 'best']\n"
     ]
    }
   ],
   "source": [
    "#model.print_topics(num_topics=20, num_words=10)\n",
    "for i,topic in model.show_topics(formatted=False,num_words= 10):\n",
    "    print([dictionary[int(words[0])] for words in topic])"
   ]
  },
  {
   "cell_type": "markdown",
   "metadata": {},
   "source": [
    "Once you have a trained model, run the following cell to print the topics:"
   ]
  },
  {
   "cell_type": "markdown",
   "metadata": {},
   "source": [
    "Inspect the topics. Do they make sense? Can you &lsquo;label&rsquo; each topic with a short description of what it is about? Do the topics contain any unexpected terms? Summarize your discussion in a short text."
   ]
  },
  {
   "cell_type": "markdown",
   "metadata": {},
   "source": [
    "*Child welfare,Peace in the middle east,american congress,american people's health,federal crime,nuclear threats,new century,trade and markets,budget and tax, social security. Unexpected terms are present in some of the topics such as 'medicare' along with 'nuclear' threat concerns, 'economic growth' with 'peace in the middle east'.*"
   ]
  },
  {
   "cell_type": "markdown",
   "metadata": {},
   "source": [
    "## Problem 6: Monitoring a topic model for convergence"
   ]
  },
  {
   "cell_type": "markdown",
   "metadata": {},
   "source": [
    "When learning an LDA model, it is important to make sure that the training algorithm has converged to a stable posterior distribution. One way to do so is to plot, after each training epochs(or &lsquo;pass&rsquo;, in gensim parlance) the log likelihood of the training data under the posterior. Your last task in this lab is to create such a plot and, based on this, to suggest an appropriate number of epochs.\n",
    "\n",
    "To collect information about the posterior likelihood after each pass, we need to enable the logging facilities of gensim. Once this is done, gensim will add various diagnostics to a log file `gensim.log`."
   ]
  },
  {
   "cell_type": "code",
   "execution_count": 38,
   "metadata": {},
   "outputs": [],
   "source": [
    "import logging\n",
    "\n",
    "logging.basicConfig(filename=\"gensim.log\", format=\"%(asctime)s:%(levelname)s:%(message)s\", level=logging.INFO)"
   ]
  },
  {
   "cell_type": "markdown",
   "metadata": {},
   "source": [
    "The following function will parse the generated logfile and return the list of log likelihoods."
   ]
  },
  {
   "cell_type": "code",
   "execution_count": 39,
   "metadata": {},
   "outputs": [],
   "source": [
    "import re\n",
    "\n",
    "def parse_logfile():\n",
    "    matcher = re.compile(\"(-*\\d+\\.\\d+) per-word .* (\\d+\\.\\d+) perplexity\")\n",
    "    likelihoods = []\n",
    "    with open(\"gensim.log\") as source:\n",
    "        for line in source:\n",
    "            match = matcher.search(line)\n",
    "            if match:\n",
    "                likelihoods.append(float(match.group(1)))\n",
    "    return likelihoods"
   ]
  },
  {
   "cell_type": "markdown",
   "metadata": {},
   "source": [
    "Your task now is to re-train your LDA model for 50&nbsp;passes, retrieve the list of log likelihoods, and create a plot from this data."
   ]
  },
  {
   "cell_type": "code",
   "execution_count": 53,
   "metadata": {},
   "outputs": [
    {
     "data": {
      "text/plain": [
       "[<matplotlib.lines.Line2D at 0x216d1d6c400>]"
      ]
     },
     "execution_count": 53,
     "metadata": {},
     "output_type": "execute_result"
    },
    {
     "data": {
      "image/png": "[encoded data removed]",
      "text/plain": [
       "<Figure size 640x480 with 1 Axes>"
      ]
     },
     "metadata": {},
     "output_type": "display_data"
    }
   ],
   "source": [
    "# TODO: Enter code here to generate the convergence plot\n",
    "#clear previous code runs from the log file\n",
    "with open('gensim.log', 'w'):\n",
    "    pass\n",
    "# Train LDA model.\n",
    "ldamodel = LdaModel(corpus, num_topics=10, passes = 50)\n",
    "plt.plot(parse_logfile())\n",
    "#len(parse_logfile())"
   ]
  },
  {
   "cell_type": "markdown",
   "metadata": {},
   "source": [
    "How do you interpret your plot? What would be a reasonable choice for the number of passes? Retrain your LDA model with that number and re-inspect the topics it finds. Do you consider the new topics to be &lsquo;better&rsquo; than the ones that you got from the 1-pass model in Problem&nbsp;5?"
   ]
  },
  {
   "cell_type": "code",
   "execution_count": 57,
   "metadata": {},
   "outputs": [
    {
     "data": {
      "text/plain": [
       "[<matplotlib.lines.Line2D at 0x216d07c4940>]"
      ]
     },
     "execution_count": 57,
     "metadata": {},
     "output_type": "execute_result"
    },
    {
     "data": {
      "image/png": "[encoded data removed]",
      "text/plain": [
       "<Figure size 640x480 with 1 Axes>"
      ]
     },
     "metadata": {},
     "output_type": "display_data"
    }
   ],
   "source": [
    "with open('gensim.log', 'w'):\n",
    "    pass\n",
    "ldamodel_optimum30 = LdaModel(corpus, num_topics=10, passes = 30)\n",
    "plt.plot(parse_logfile())\n",
    "#len(parse_logfile())"
   ]
  },
  {
   "cell_type": "code",
   "execution_count": 59,
   "metadata": {},
   "outputs": [
    {
     "name": "stdout",
     "output_type": "stream",
     "text": [
      "['america', 'world', 'people', 'freedom', 'nation', 'american', 'years', 'peace', 'time', 'country']\n",
      "['world', 'nuclear', 'nations', 'united', 'states', 'soviet', 'peace', 'military', 'security', 'forces']\n",
      "['jobs', 'years', 'new', 'tax', 'economy', 'growth', 'economic', 'private', 'inflation', 'cut']\n",
      "['health', 'security', 'social', 'care', 'insurance', 'medicare', 'americans', 'system', 'year', 'bipartisan']\n",
      "['children', 'schools', 'school', 'parents', 'education', 'college', 'know', 'child', 'help', 'teachers']\n",
      "['new', 'america', 'americans', 'people', 'century', 'american', 'thank', 'challenge', 'common', 'government']\n",
      "['crime', 'community', 'communities', 'president', 'congress', 'work', 'new', 'citizens', 'responsibility', 'years']\n",
      "['work', 'congress', 'people', 'welfare', 'year', 'families', 'tax', 'reform', 'help', 'bill']\n",
      "['let', 'government', 'budget', 'federal', 'state', 'year', 'spending', 'people', 'years', 'defense']\n",
      "['energy', 'policy', 'administration', 'congress', 'federal', 'program', 'programs', 'states', 'new', 'major']\n"
     ]
    }
   ],
   "source": [
    "#topics in 50 pass model\n",
    "for i,topic in ldamodel.show_topics(formatted=False,num_words= 10):\n",
    "    print([dictionary[int(words[0])] for words in topic])"
   ]
  },
  {
   "cell_type": "code",
   "execution_count": 61,
   "metadata": {},
   "outputs": [
    {
     "name": "stdout",
     "output_type": "stream",
     "text": [
      "['america', 'people', 'nation', 'world', 'americans', 'country', 'time', 'great', 'years', 'union']\n",
      "['work', 'welfare', 'crime', 'people', 'bill', 'children', 'know', 'right', 'parents', 'let']\n",
      "['economic', 'years', 'growth', 'energy', 'new', 'administration', 'policy', 'program', 'rate', 'inflation']\n",
      "['years', 'nuclear', 'budget', 'year', 'war', 'defense', 'spending', 'deficit', 'forces', 'cut']\n",
      "['congress', 'trade', 'year', 'president', 'ask', 'act', 'thank', 'members', 'american', 'bipartisan']\n",
      "['children', 'new', 'help', 'schools', 'school', 'america', 'education', 'college', 'communities', 'year']\n",
      "['people', 'america', 'american', 'know', 'century', 'new', 'let', 'government', 'americans', 'economy']\n",
      "['health', 'care', 'tax', 'families', 'security', 'social', 'year', 'family', 'americans', 'income']\n",
      "['federal', 'government', 'programs', 'national', 'states', 'year', 'billion', 'state', 'education', 'public']\n",
      "['world', 'peace', 'united', 'states', 'america', 'nations', 'soviet', 'security', 'international', 'countries']\n"
     ]
    }
   ],
   "source": [
    "for i,topic in ldamodel_optimum30.show_topics(formatted=False,num_words= 10):\n",
    "    print([dictionary[int(words[0])] for words in topic])"
   ]
  },
  {
   "cell_type": "code",
   "execution_count": 62,
   "metadata": {},
   "outputs": [
    {
     "data": {
      "text/plain": [
       "[<matplotlib.lines.Line2D at 0x216d1a36b00>]"
      ]
     },
     "execution_count": 62,
     "metadata": {},
     "output_type": "execute_result"
    },
    {
     "data": {
      "image/png": "[encoded data removed]",
      "text/plain": [
       "<Figure size 640x480 with 1 Axes>"
      ]
     },
     "metadata": {},
     "output_type": "display_data"
    }
   ],
   "source": [
    "with open('gensim.log', 'w'):\n",
    "    pass\n",
    "ldamodel_100 = LdaModel(corpus, num_topics=10, passes = 100)\n",
    "plt.plot(parse_logfile())\n",
    "#len(parse_logfile())"
   ]
  },
  {
   "cell_type": "code",
   "execution_count": 63,
   "metadata": {},
   "outputs": [
    {
     "name": "stdout",
     "output_type": "stream",
     "text": [
      "['children', 'people', 'work', 'child', 'know', 'college', 'help', 'parents', 'need', 'way']\n",
      "['new', 'jobs', 'trade', 'congress', 'people', 'work', 'workers', 'help', 'american', 'private']\n",
      "['america', 'world', 'new', 'people', 'century', 'americans', 'time', 'government', 'economy', 'state']\n",
      "['tax', 'security', 'social', 'budget', 'cut', 'year', 'percent', 'deficit', 'years', 'cuts']\n",
      "['people', 'let', 'president', 'america', 'american', 'country', 'congress', 'nation', 'americans', 'thank']\n",
      "['health', 'welfare', 'care', 'budget', 'federal', 'year', 'reform', 'programs', 'spending', 'system']\n",
      "['government', 'energy', 'federal', 'administration', 'congress', 'policy', 'economic', 'program', 'new', 'states']\n",
      "['years', 'crime', 'time', 'america', 'ago', 'women', 'rights', 'year', 'history', 'drugs']\n",
      "['world', 'peace', 'nations', 'nuclear', 'soviet', 'security', 'united', 'states', 'military', 'international']\n",
      "['education', 'schools', 'new', 'national', 'children', 'support', 'teachers', 'environment', 'technology', 'communities']\n"
     ]
    }
   ],
   "source": [
    "for i,topic in ldamodel_100.show_topics(formatted=False,num_words= 10):\n",
    "    print([dictionary[int(words[0])] for words in topic])"
   ]
  },
  {
   "cell_type": "markdown",
   "metadata": {},
   "source": [
    "*The Maximum log liklihood can be used to determine best number of passes while it is seen that log liklihood quickly reaches -6.2 within 10 passes and takes only another 20 or so passes to almost reach -6.1, hence, 30 passes is used at first which would correspond to an elbow method. The 50 pass model shows slight improvements while the 100 pass model is coherent. Terms in the topics are more coherent and unrelated terms as previously seen have now not appeared from the model. The topics can now be easily labelled such as:\n",
    "Helping children,trade and new jobs,tax cuts and budget deficits,american people,spending on welfare programs,economic policy,womens rights and crime,world peace and soviet nuclear threat,Education.*"
   ]
  },
  {
   "cell_type": "markdown",
   "metadata": {},
   "source": [
    "<div class=\"alert alert-info\">\n",
    "    Please read the section ‘General information’ on the ‘Labs’ page of the course website before submitting this notebook!\n",
    "</div>"
   ]
  }
 ],
 "metadata": {
  "kernelspec": {
   "display_name": "Python 3",
   "language": "python",
   "name": "python3"
  },
  "language_info": {
   "codemirror_mode": {
    "name": "ipython",
    "version": 3
   },
   "file_extension": ".py",
   "mimetype": "text/x-python",
   "name": "python",
   "nbconvert_exporter": "python",
   "pygments_lexer": "ipython3",
   "version": "3.7.1"
  }
 },
 "nbformat": 4,
 "nbformat_minor": 2
}
