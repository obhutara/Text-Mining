{
 "cells": [
  {
   "cell_type": "markdown",
   "metadata": {},
   "source": [
    "# L2: Text classification"
   ]
  },
  {
   "cell_type": "markdown",
   "metadata": {},
   "source": [
    "# Omkar Bhutra (omkbh878)"
   ]
  },
  {
   "cell_type": "markdown",
   "metadata": {},
   "source": [
    "Text classification is the task of sorting text documents into predefined classes. The concrete problem you will be working on in this lab is the classification of texts with respect to their political affiliation. The specific texts you are going to classify are speeches held in the [Riksdag](https://www.riksdagen.se/en/), the Swedish national legislature."
   ]
  },
  {
   "cell_type": "markdown",
   "metadata": {},
   "source": [
    "## Data set"
   ]
  },
  {
   "cell_type": "markdown",
   "metadata": {},
   "source": [
    "The raw data for this lab comes from [The Riksdag’s Open Data](https://data.riksdagen.se/in-english/). We have tokenized the speeches and put them into two compressed [JSON](https://en.wikipedia.org/wiki/JSON) files:\n",
    "\n",
    "* `speeches-201718.json.bz2` (speeches from the 2017/2018 parliamentary session)\n",
    "* `speeches-201819.json.bz2` (ditto, from the 2018/2019 session)\n",
    "\n",
    "We start by loading these files into two separate data frames."
   ]
  },
  {
   "cell_type": "code",
   "execution_count": 2,
   "metadata": {},
   "outputs": [],
   "source": [
    "import pandas as pd\n",
    "import bz2\n",
    "\n",
    "with bz2.open(\"speeches-201718.json.bz2\") as source:\n",
    "    speeches_201718 = pd.read_json(source)\n",
    "\n",
    "with bz2.open(\"speeches-201819.json.bz2\") as source:\n",
    "    speeches_201819 = pd.read_json(source)"
   ]
  },
  {
   "cell_type": "markdown",
   "metadata": {},
   "source": [
    "When you inspect the two data frames, you can see that there are three labelled columns: `id` (the official speech ID), `words` (the space-separated words of the speech), and `party` (the party of the speaker, represented by its customary abbreviation)."
   ]
  },
  {
   "cell_type": "code",
   "execution_count": 3,
   "metadata": {},
   "outputs": [
    {
     "data": {
      "text/html": [
       "<div>\n",
       "<style scoped>\n",
       "    .dataframe tbody tr th:only-of-type {\n",
       "        vertical-align: middle;\n",
       "    }\n",
       "\n",
       "    .dataframe tbody tr th {\n",
       "        vertical-align: top;\n",
       "    }\n",
       "\n",
       "    .dataframe thead th {\n",
       "        text-align: right;\n",
       "    }\n",
       "</style>\n",
       "<table border=\"1\" class=\"dataframe\">\n",
       "  <thead>\n",
       "    <tr style=\"text-align: right;\">\n",
       "      <th></th>\n",
       "      <th>id</th>\n",
       "      <th>party</th>\n",
       "      <th>words</th>\n",
       "    </tr>\n",
       "  </thead>\n",
       "  <tbody>\n",
       "    <tr>\n",
       "      <th>0</th>\n",
       "      <td>H5-002-004</td>\n",
       "      <td>S</td>\n",
       "      <td>eders majestäter eders kungliga högheter herr ...</td>\n",
       "    </tr>\n",
       "    <tr>\n",
       "      <th>1</th>\n",
       "      <td>H5-003-001</td>\n",
       "      <td>V</td>\n",
       "      <td>aktuell debatt om situationen för ensamkommand...</td>\n",
       "    </tr>\n",
       "    <tr>\n",
       "      <th>2</th>\n",
       "      <td>H5-003-002</td>\n",
       "      <td>S</td>\n",
       "      <td>herr talman och ledamöter jag vill börja med a...</td>\n",
       "    </tr>\n",
       "    <tr>\n",
       "      <th>3</th>\n",
       "      <td>H5-003-003</td>\n",
       "      <td>M</td>\n",
       "      <td>herr talman åhörare den här debatten handlar a...</td>\n",
       "    </tr>\n",
       "    <tr>\n",
       "      <th>4</th>\n",
       "      <td>H5-003-004</td>\n",
       "      <td>SD</td>\n",
       "      <td>herr talman ansvar och rättssäkerhet är två or...</td>\n",
       "    </tr>\n",
       "  </tbody>\n",
       "</table>\n",
       "</div>"
      ],
      "text/plain": [
       "           id party                                              words\n",
       "0  H5-002-004     S  eders majestäter eders kungliga högheter herr ...\n",
       "1  H5-003-001     V  aktuell debatt om situationen för ensamkommand...\n",
       "2  H5-003-002     S  herr talman och ledamöter jag vill börja med a...\n",
       "3  H5-003-003     M  herr talman åhörare den här debatten handlar a...\n",
       "4  H5-003-004    SD  herr talman ansvar och rättssäkerhet är två or..."
      ]
     },
     "execution_count": 3,
     "metadata": {},
     "output_type": "execute_result"
    }
   ],
   "source": [
    "speeches_201718.head()"
   ]
  },
  {
   "cell_type": "code",
   "execution_count": 4,
   "metadata": {},
   "outputs": [
    {
     "data": {
      "text/html": [
       "<div>\n",
       "<style scoped>\n",
       "    .dataframe tbody tr th:only-of-type {\n",
       "        vertical-align: middle;\n",
       "    }\n",
       "\n",
       "    .dataframe tbody tr th {\n",
       "        vertical-align: top;\n",
       "    }\n",
       "\n",
       "    .dataframe thead th {\n",
       "        text-align: right;\n",
       "    }\n",
       "</style>\n",
       "<table border=\"1\" class=\"dataframe\">\n",
       "  <thead>\n",
       "    <tr style=\"text-align: right;\">\n",
       "      <th></th>\n",
       "      <th>id</th>\n",
       "      <th>party</th>\n",
       "      <th>words</th>\n",
       "    </tr>\n",
       "  </thead>\n",
       "  <tbody>\n",
       "    <tr>\n",
       "      <th>0</th>\n",
       "      <td>H6-001-001</td>\n",
       "      <td>M</td>\n",
       "      <td>hälsningsanförande från ålderspresidenten ärad...</td>\n",
       "    </tr>\n",
       "    <tr>\n",
       "      <th>1</th>\n",
       "      <td>H6-001-002</td>\n",
       "      <td>S</td>\n",
       "      <td>fru ålderspresident ärade ledamöter av sverige...</td>\n",
       "    </tr>\n",
       "    <tr>\n",
       "      <th>2</th>\n",
       "      <td>H6-001-003</td>\n",
       "      <td>M</td>\n",
       "      <td>fru ålderspresident ärade ledamöter av sverige...</td>\n",
       "    </tr>\n",
       "    <tr>\n",
       "      <th>3</th>\n",
       "      <td>H6-001-004</td>\n",
       "      <td>S</td>\n",
       "      <td>val av förste vice talman val av andre vice ta...</td>\n",
       "    </tr>\n",
       "    <tr>\n",
       "      <th>4</th>\n",
       "      <td>H6-001-005</td>\n",
       "      <td>SD</td>\n",
       "      <td>ärade fru ålderspresident och likaledes ärade ...</td>\n",
       "    </tr>\n",
       "  </tbody>\n",
       "</table>\n",
       "</div>"
      ],
      "text/plain": [
       "           id party                                              words\n",
       "0  H6-001-001     M  hälsningsanförande från ålderspresidenten ärad...\n",
       "1  H6-001-002     S  fru ålderspresident ärade ledamöter av sverige...\n",
       "2  H6-001-003     M  fru ålderspresident ärade ledamöter av sverige...\n",
       "3  H6-001-004     S  val av förste vice talman val av andre vice ta...\n",
       "4  H6-001-005    SD  ärade fru ålderspresident och likaledes ärade ..."
      ]
     },
     "execution_count": 4,
     "metadata": {},
     "output_type": "execute_result"
    }
   ],
   "source": [
    "speeches_201819.head()"
   ]
  },
  {
   "cell_type": "markdown",
   "metadata": {},
   "source": [
    "Throughout the lab, we will be using the speeches from 2017/2018 as our training data, and the speeches from 2018/2019 as our test data."
   ]
  },
  {
   "cell_type": "code",
   "execution_count": 5,
   "metadata": {},
   "outputs": [],
   "source": [
    "training_data, test_data = speeches_201718, speeches_201819"
   ]
  },
  {
   "cell_type": "markdown",
   "metadata": {},
   "source": [
    "For later reference, we store the sorted list of party abbreviations."
   ]
  },
  {
   "cell_type": "code",
   "execution_count": 6,
   "metadata": {},
   "outputs": [
    {
     "name": "stdout",
     "output_type": "stream",
     "text": [
      "['C', 'KD', 'L', 'M', 'MP', 'S', 'SD', 'V']\n"
     ]
    }
   ],
   "source": [
    "parties = sorted(training_data[\"party\"].unique())\n",
    "print(parties)"
   ]
  },
  {
   "cell_type": "markdown",
   "metadata": {},
   "source": [
    "## Problem 1: Visualization"
   ]
  },
  {
   "cell_type": "markdown",
   "metadata": {},
   "source": [
    "Your first task is to get to know the data better by plotting a simple visualization.\n",
    "\n",
    "If you are not familiar with the Swedish political system and the parties represented in the Riksdag in particular, then we suggest that you have a look at the Wikipedia article about the [2018 Swedish general election](https://en.wikipedia.org/wiki/2018_Swedish_general_election).\n",
    "\n",
    "For the lab, we ask you to compare the two data frames with respect to the distribution of the speeches over the different parties. Write code to generate two bar plots that visualize this information, one for the 2017/2018 speeches and one for the 2018/2019 speeches. Inspect the two plots, and compare them\n",
    "\n",
    "* to each other\n",
    "* to the results of the 2014 and the 2018 general elections\n",
    "\n",
    "Summarize your observations in a short text in the cell below.\n",
    "\n",
    "**Tip:** If you need help with creating bar plots, [Bar Plot using Pandas](https://dfrieds.com/data-visualizations/bar-plot-python-pandas) provides a useful tutorial."
   ]
  },
  {
   "cell_type": "code",
   "execution_count": 46,
   "metadata": {},
   "outputs": [
    {
     "data": {
      "image/png": "[encoded data removed]",
      "text/plain": [
       "<Figure size 432x288 with 1 Axes>"
      ]
     },
     "metadata": {
      "needs_background": "light"
     },
     "output_type": "display_data"
    }
   ],
   "source": [
    "import matplotlib.pyplot as plt\n",
    "import pandas as pd\n",
    "#matplotlib inline\n",
    "speeches201718 = speeches_201718.groupby('party').size().tolist()\n",
    "speeches201819 = speeches_201819.groupby('party').size().tolist()\n",
    "df = pd.DataFrame({'speeches 2017 to 2018': speeches201718,'speeches 2018 to 2019': speeches201819}, index=parties)\n",
    "ax = df.plot.bar(rot=0)"
   ]
  },
  {
   "cell_type": "markdown",
   "metadata": {},
   "source": [
    "The parties Swedish Social Democratic Party has the highest number of speeches in both the year periods 2017-18 and 2018-19, followed by the Moderate Party. Although the number of speeches by both the parties have reduced in number in the latter year.\n",
    "This is also seen in the 2014 and 2018 election results where the Swedish Social Democratic Party received the share of 31.0% in the Riksdag in 2014 followed by the Moderate Party which received 23.3% of the share in 2014. 'S' received 28.26% in 2018 and 'M' received 19.84% share in 2018.\n",
    "The top 2 parties by riksdag seats are also the ones with highest number of speeches made."
   ]
  },
  {
   "cell_type": "markdown",
   "metadata": {},
   "source": [
    "## Problem 2: Naive Bayes classifier"
   ]
  },
  {
   "cell_type": "markdown",
   "metadata": {},
   "source": [
    "You are now ready to train and evaluate a classifier. More specifically, we ask you to train a [Multinomial Naive Bayes](https://scikit-learn.org/stable/modules/naive_bayes.html#multinomial-naive-bayes) classifier. You will have to\n",
    "\n",
    "1. vectorize the speeches in the training data\n",
    "2. instantiate and fit the Naive Bayes model\n",
    "3. evaluate the model on the test data\n",
    "\n",
    "The scikit-learn library provides a convenience class [Pipeline](https://scikit-learn.org/stable/modules/generated/sklearn.pipeline.Pipeline.html) that allows you to solve the first two tasks with very compact code. For the evaluation you can use the function [`classification_report`](https://scikit-learn.org/stable/modules/generated/sklearn.metrics.classification_report.html), which will report per-class precision, recall and F1, as well as overall accuracy."
   ]
  },
  {
   "cell_type": "code",
   "execution_count": 111,
   "metadata": {
    "scrolled": true
   },
   "outputs": [],
   "source": [
    "from sklearn.pipeline import Pipeline\n",
    "from sklearn.naive_bayes import MultinomialNB\n",
    "from sklearn.feature_extraction.text import CountVectorizer, TfidfTransformer, TfidfVectorizer\n",
    "from sklearn.metrics import classification_report,accuracy_score,confusion_matrix,precision_score,recall_score,f1_score\n",
    "\n",
    "text_clf = Pipeline([\n",
    "     ('vect', CountVectorizer()),\n",
    "     ('clf', MultinomialNB()), \n",
    "])"
   ]
  },
  {
   "cell_type": "code",
   "execution_count": 112,
   "metadata": {},
   "outputs": [
    {
     "data": {
      "text/plain": [
       "Pipeline(memory=None,\n",
       "         steps=[('vect',\n",
       "                 CountVectorizer(analyzer='word', binary=False,\n",
       "                                 decode_error='strict',\n",
       "                                 dtype=<class 'numpy.int64'>, encoding='utf-8',\n",
       "                                 input='content', lowercase=True, max_df=1.0,\n",
       "                                 max_features=None, min_df=1,\n",
       "                                 ngram_range=(1, 1), preprocessor=None,\n",
       "                                 stop_words=None, strip_accents=None,\n",
       "                                 token_pattern='(?u)\\\\b\\\\w\\\\w+\\\\b',\n",
       "                                 tokenizer=None, vocabulary=None)),\n",
       "                ('clf',\n",
       "                 MultinomialNB(alpha=1.0, class_prior=None, fit_prior=True))],\n",
       "         verbose=False)"
      ]
     },
     "execution_count": 112,
     "metadata": {},
     "output_type": "execute_result"
    }
   ],
   "source": [
    "text_clf.fit(training_data.words, training_data.party)\n",
    "#Pipeline(...)"
   ]
  },
  {
   "cell_type": "code",
   "execution_count": 113,
   "metadata": {},
   "outputs": [
    {
     "name": "stdout",
     "output_type": "stream",
     "text": [
      "The Accuracy is 0.4280792420327304\n"
     ]
    }
   ],
   "source": [
    "import numpy as np\n",
    "predicted = text_clf.predict(test_data.words)\n",
    "print('The Accuracy is %s' % np.mean(predicted == test_data.party))"
   ]
  },
  {
   "cell_type": "code",
   "execution_count": 114,
   "metadata": {},
   "outputs": [
    {
     "name": "stdout",
     "output_type": "stream",
     "text": [
      "The Accuracy is 0.4280792420327304\n",
      "              precision    recall  f1-score   support\n",
      "\n",
      "           C       0.63      0.04      0.07       671\n",
      "          KD       0.70      0.02      0.03       821\n",
      "           L       0.92      0.02      0.04       560\n",
      "           M       0.36      0.68      0.47      1644\n",
      "          MP       0.36      0.25      0.29       809\n",
      "           S       0.46      0.84      0.59      2773\n",
      "          SD       0.57      0.12      0.20      1060\n",
      "           V       0.59      0.15      0.24       950\n",
      "\n",
      "    accuracy                           0.43      9288\n",
      "   macro avg       0.57      0.26      0.24      9288\n",
      "weighted avg       0.52      0.43      0.34      9288\n",
      "\n"
     ]
    }
   ],
   "source": [
    "cr = classification_report(y_true = test_data.party,\n",
    "                      y_pred = predicted,\n",
    "                      labels=None, target_names=parties,\n",
    "                      sample_weight=None, digits=2,\n",
    "                      output_dict=False)\n",
    "print('The Accuracy is %s' % accuracy_score(predicted, test_data.party))\n",
    "print(cr)"
   ]
  },
  {
   "cell_type": "markdown",
   "metadata": {},
   "source": [
    "Would you have expected the results that you got?"
   ]
  },
  {
   "cell_type": "markdown",
   "metadata": {},
   "source": [
    "## Problem 3: Baseline"
   ]
  },
  {
   "cell_type": "markdown",
   "metadata": {},
   "source": [
    "Evaluation metrics such as accuracy should not be understood as absolute measures of performance, but should be used only to compare different classifiers. When other classifiers are not available, a simple baseline for text classification is **Most Frequent Class (MFC)**. One way to think of this baseline is as a classifier that, for every document, predicts that class which appears most often in the training data.\n",
    "\n",
    "Determine the most frequent class in the 2017/2018 data. What is the accuracy of the MFC baseline on the test data? Given this baseline accuracy, how do you assess the results of the Naive Bayes classifier from Problem&nbsp;2? Answer with a short text."
   ]
  },
  {
   "cell_type": "code",
   "execution_count": 12,
   "metadata": {
    "scrolled": true
   },
   "outputs": [
    {
     "name": "stdout",
     "output_type": "stream",
     "text": [
      "The Accuracy is 0.298557278208441\n"
     ]
    }
   ],
   "source": [
    "# TODO: Write code here to print the baseline accuracy\n",
    "print('The Accuracy is %s' % np.mean(test_data.party == training_data.party.mode()[0]))"
   ]
  },
  {
   "cell_type": "markdown",
   "metadata": {},
   "source": [
    "*The most frequent class in the training data (2017/2018 data) is found using mode function. It is reported to be Socialdemokraterna (S). The accuracy is calculated based on this MFC which is very close to the multinomial naive bayes classification.*"
   ]
  },
  {
   "cell_type": "markdown",
   "metadata": {},
   "source": [
    "## Problem 4: Creating a balanced data set"
   ]
  },
  {
   "cell_type": "markdown",
   "metadata": {},
   "source": [
    "As you saw in Problem&nbsp;1, the distribution of the speeches over the eight different parties (classes) is imbalanced. One technique used to alleviate this is **undersampling**, in which one randomly removes samples from over-represented classes until all classes are represented with the same number of samples.\n",
    "\n",
    "Implement undersampling to create a balanced subset of the training data. Rerun the evaluation from Problem&nbsp;2 on the balanced data and compare the results. Discuss your findings in a short text. Would you argue that undersampling make sense for the task of predicting the party of a speaker?\n",
    "\n",
    "**Hint:** Your balanced subset should consist of 5,752 speeches."
   ]
  },
  {
   "cell_type": "code",
   "execution_count": 268,
   "metadata": {},
   "outputs": [],
   "source": [
    "# TODO: Write code here to implement undersampling\n",
    "partyspeech_value_index = training_data.party.value_counts().index\n",
    "random_xindices = []\n",
    "under_sample_indices = []\n",
    "for x in range(len(partyspeech_value_index)):\n",
    "    x_indices = training_data[training_data.party == training_data.party.value_counts().index[x]].index\n",
    "    random_xindices = np.random.choice(x_indices,\n",
    "                                       min(training_data.party.value_counts()),\n",
    "                                       replace=False)\n",
    "    under_sample_indices.append(training_data.loc[random_xindices])\n",
    "    \n",
    "#Get Balance Dataframe   \n",
    "under_sample = pd.concat(under_sample_indices) "
   ]
  },
  {
   "cell_type": "code",
   "execution_count": 274,
   "metadata": {},
   "outputs": [
    {
     "data": {
      "text/plain": [
       "[719, 719, 719, 719, 719, 719, 719, 719]"
      ]
     },
     "execution_count": 274,
     "metadata": {},
     "output_type": "execute_result"
    },
    {
     "data": {
      "image/png": "[encoded data removed]",
      "text/plain": [
       "<Figure size 432x288 with 1 Axes>"
      ]
     },
     "metadata": {
      "needs_background": "light"
     },
     "output_type": "display_data"
    }
   ],
   "source": [
    "import matplotlib.pyplot as plt\n",
    "import pandas as pd\n",
    "#matplotlib inline\n",
    "undersamples = under_sample.party.value_counts().tolist()\n",
    "trainingdata = training_data.party.value_counts().tolist()\n",
    "df = pd.DataFrame({'undersampled': undersamples,'trainingdata': speeches201718},\n",
    "                  index=training_data.party.value_counts().index)\n",
    "ax = df.plot.bar(rot=0)\n",
    "\n",
    "under_sample.party.value_counts().tolist()"
   ]
  },
  {
   "cell_type": "code",
   "execution_count": 463,
   "metadata": {},
   "outputs": [
    {
     "name": "stdout",
     "output_type": "stream",
     "text": [
      "The Accuracy is 0.4086993970714901\n",
      "The Accuracy is 0.4086993970714901\n",
      "              precision    recall  f1-score   support\n",
      "\n",
      "           C       0.28      0.40      0.33       671\n",
      "          KD       0.30      0.40      0.34       821\n",
      "           L       0.28      0.45      0.34       560\n",
      "           M       0.39      0.50      0.44      1644\n",
      "          MP       0.37      0.36      0.37       809\n",
      "           S       0.79      0.31      0.45      2773\n",
      "          SD       0.45      0.39      0.42      1060\n",
      "           V       0.39      0.56      0.46       950\n",
      "\n",
      "    accuracy                           0.41      9288\n",
      "   macro avg       0.41      0.42      0.39      9288\n",
      "weighted avg       0.49      0.41      0.41      9288\n",
      "\n"
     ]
    }
   ],
   "source": [
    "text_clf.fit(under_sample.words, under_sample.party)\n",
    "predicted_balance = text_clf.predict(test_data.words)\n",
    "print('The Accuracy is %s' % np.mean(predicted_balance == test_data.party))\n",
    "\n",
    "cr2 = classification_report(y_true = test_data.party,\n",
    "                      y_pred = predicted_balance,\n",
    "                      labels=None, target_names=parties,\n",
    "                      sample_weight=None, digits=2,\n",
    "                      output_dict=False)\n",
    "print('The Accuracy is %s' % accuracy_score(predicted_balance, test_data.party))\n",
    "print(cr2)"
   ]
  },
  {
   "cell_type": "markdown",
   "metadata": {},
   "source": [
    "*When random sampling is performed on the speeches from each party, we can take the number of samples equal\n",
    "to the least made by a party, this would give us a balanced dataset. The accuracy of the classifier reduces\n",
    "in this case from 42.8% to 40.8%. The distribution is parametrized by vectors $\\theta_{y} = (\\theta_{y1}...\\theta_{yn})$, \n",
    "for each class y , where n is the number of features (in text classification,the size of the vocabulary) and $\\theta_{yi}$ is the probability  of feature appearing in a sample belonging to class.* \n",
    "The parameters $\\theta_{yi}$  is estimated by a smoothed version of maximum likelihood, i.e. relative frequency counting:\n",
    "$\\hat\\theta = \\frac{{N}_{yi} + \\alpha}{{N}_{yi} + \\alpha n}$\n",
    "where $N_{yi}=\\sum{x_i}$ is the number of times feature  appears in a sample of class  in the training set and $N_{y} = \\sum{N_{yi}}$ is the total count of all features for class y."
   ]
  },
  {
   "cell_type": "markdown",
   "metadata": {},
   "source": [
    "## Problem 5: Confusion matrix"
   ]
  },
  {
   "cell_type": "markdown",
   "metadata": {},
   "source": [
    "A **confusion matrix** is a specific table layout that is useful when analysing the performance of a classifier. In this matrix, both the rows and the columns correspond to classes, and each cell $(i, j)$ states how many times a sample with gold-standard class $i$ was predicted as belonging to class $j$.\n",
    "\n",
    "In scitkit-learn, the confusion matrix of a classifier is computed by the function [`confusion_matrix`](https://scikit-learn.org/stable/modules/generated/sklearn.metrics.confusion_matrix.html).\n",
    "\n",
    "Your task is to use the confusion matrix to find, for each given party $p$ in the Riksdag, that other party $p'$ which the classifier that you trained in Problem&nbsp;4 most often confuses $p$ with when it predicts the party of a speaker."
   ]
  },
  {
   "cell_type": "code",
   "execution_count": 464,
   "metadata": {},
   "outputs": [
    {
     "data": {
      "text/plain": [
       "Text(33.0, 0.5, 'Predicted Class label')"
      ]
     },
     "execution_count": 464,
     "metadata": {},
     "output_type": "execute_result"
    },
    {
     "data": {
      "image/png": "[encoded data removed]",
      "text/plain": [
       "<Figure size 432x288 with 2 Axes>"
      ]
     },
     "metadata": {
      "needs_background": "light"
     },
     "output_type": "display_data"
    }
   ],
   "source": [
    "# TODO: Write code here to solve Problem 5\n",
    "import seaborn as sns\n",
    "from sklearn.metrics import confusion_matrix\n",
    "cm2 = confusion_matrix(test_data.party, predicted_balance)\n",
    "sns.heatmap(cm2,annot=True,fmt=\"d\",cmap=\"YlGnBu\")\n",
    "plt.xlabel(\"True Class label\")\n",
    "plt.ylabel(\"Predicted Class label\")"
   ]
  },
  {
   "cell_type": "markdown",
   "metadata": {},
   "source": [
    "*The Social Democratic party (S) is most often confused with the Sweden Democrats (SD)\n",
    "as seen in the confusion matrix with 501 SD occurances classified as S*"
   ]
  },
  {
   "cell_type": "markdown",
   "metadata": {},
   "source": [
    "## Problem 6: Grid search"
   ]
  },
  {
   "cell_type": "markdown",
   "metadata": {},
   "source": [
    "Until now, you have been using the vectorizer and the Naive Bayes classifier with their default hyperparameters. When working with real-world applications, you would want to find settings for the hyperparameters that maximize the performance for the task at hand.\n",
    "\n",
    "Manually tweaking the hyperparameters of the various components of a vectorizer–classifier pipeline can be cumbersome. However, scikit-learn makes it possible to run an exhaustive search for the best hyperparameters over a grid of possible values. This method is known as **grid search**.\n",
    "\n",
    "The hyperparameters of a pipeline should never be tuned on the final test set. (Why would that be a bad idea?) Instead, one should either use a separate validation set, or run cross-validation over different folds. Here we will use cross-validation.\n",
    "\n",
    "Implement a grid search with 5-fold cross-validation to find the optimal parameters in a grid defined by the following choices for the hyperparameters:\n",
    "\n",
    "* In the vectorizer, try a set-of-words model instead of the default bag-of-words model (two possible parameter values).\n",
    "* Also in the vectorizer, try extracting $n$-grams up to $n = 2$ (two possible parameter values).\n",
    "* In the Naive Bayes classifier, try using additive smoothing with $\\alpha \\in \\{1, 0{.}1\\}$ (two possible parameter values).\n",
    "\n",
    "Use the class [GridSearchCV](https://scikit-learn.org/stable/modules/generated/sklearn.model_selection.GridSearchCV.html) from the scikit-learn library. Print the results of your best model, along with the parameter values that yielded these results."
   ]
  },
  {
   "cell_type": "code",
   "execution_count": 340,
   "metadata": {},
   "outputs": [],
   "source": [
    "# TODO: Write code here to implement the grid search\n",
    "from sklearn.model_selection import GridSearchCV\n",
    "parameters = {\n",
    "    'vect__ngram_range': [(1, 1), (1, 2)],\n",
    "    'clf__alpha': (1, .1),\n",
    "}"
   ]
  },
  {
   "cell_type": "code",
   "execution_count": 341,
   "metadata": {},
   "outputs": [],
   "source": [
    "gs_clf = GridSearchCV(text_clf, parameters, cv=5, iid=False, n_jobs=-1)\n",
    "gs_clf = gs_clf.fit(training_data.words, training_data.party)"
   ]
  },
  {
   "cell_type": "code",
   "execution_count": 342,
   "metadata": {},
   "outputs": [],
   "source": [
    "prediction3 = gs_clf.predict(test_data.words)"
   ]
  },
  {
   "cell_type": "code",
   "execution_count": 343,
   "metadata": {},
   "outputs": [
    {
     "data": {
      "text/plain": [
       "0.5861476440032725"
      ]
     },
     "execution_count": 343,
     "metadata": {},
     "output_type": "execute_result"
    }
   ],
   "source": [
    "gs_clf.best_score_"
   ]
  },
  {
   "cell_type": "code",
   "execution_count": 344,
   "metadata": {},
   "outputs": [
    {
     "name": "stdout",
     "output_type": "stream",
     "text": [
      "clf__alpha: 0.1\n",
      "vect__ngram_range: (1, 1)\n"
     ]
    }
   ],
   "source": [
    "for param_name in sorted(parameters.keys()):\n",
    "    print(\"%s: %r\" % (param_name, gs_clf.best_params_[param_name]))"
   ]
  },
  {
   "cell_type": "code",
   "execution_count": 345,
   "metadata": {},
   "outputs": [
    {
     "data": {
      "text/html": [
       "<div>\n",
       "<style scoped>\n",
       "    .dataframe tbody tr th:only-of-type {\n",
       "        vertical-align: middle;\n",
       "    }\n",
       "\n",
       "    .dataframe tbody tr th {\n",
       "        vertical-align: top;\n",
       "    }\n",
       "\n",
       "    .dataframe thead th {\n",
       "        text-align: right;\n",
       "    }\n",
       "</style>\n",
       "<table border=\"1\" class=\"dataframe\">\n",
       "  <thead>\n",
       "    <tr style=\"text-align: right;\">\n",
       "      <th></th>\n",
       "      <th>mean_fit_time</th>\n",
       "      <th>std_fit_time</th>\n",
       "      <th>mean_score_time</th>\n",
       "      <th>std_score_time</th>\n",
       "      <th>param_clf__alpha</th>\n",
       "      <th>param_vect__ngram_range</th>\n",
       "      <th>params</th>\n",
       "      <th>split0_test_score</th>\n",
       "      <th>split1_test_score</th>\n",
       "      <th>split2_test_score</th>\n",
       "      <th>split3_test_score</th>\n",
       "      <th>split4_test_score</th>\n",
       "      <th>mean_test_score</th>\n",
       "      <th>std_test_score</th>\n",
       "      <th>rank_test_score</th>\n",
       "    </tr>\n",
       "  </thead>\n",
       "  <tbody>\n",
       "    <tr>\n",
       "      <th>0</th>\n",
       "      <td>5.703562</td>\n",
       "      <td>0.288522</td>\n",
       "      <td>1.329843</td>\n",
       "      <td>0.090051</td>\n",
       "      <td>1</td>\n",
       "      <td>(1, 1)</td>\n",
       "      <td>{'clf__alpha': 1, 'vect__ngram_range': (1, 1)}</td>\n",
       "      <td>0.514771</td>\n",
       "      <td>0.509923</td>\n",
       "      <td>0.521669</td>\n",
       "      <td>0.500000</td>\n",
       "      <td>0.486212</td>\n",
       "      <td>0.506515</td>\n",
       "      <td>0.012362</td>\n",
       "      <td>3</td>\n",
       "    </tr>\n",
       "    <tr>\n",
       "      <th>1</th>\n",
       "      <td>24.734096</td>\n",
       "      <td>2.949808</td>\n",
       "      <td>2.536418</td>\n",
       "      <td>0.234567</td>\n",
       "      <td>1</td>\n",
       "      <td>(1, 2)</td>\n",
       "      <td>{'clf__alpha': 1, 'vect__ngram_range': (1, 2)}</td>\n",
       "      <td>0.420478</td>\n",
       "      <td>0.404617</td>\n",
       "      <td>0.409072</td>\n",
       "      <td>0.419773</td>\n",
       "      <td>0.403082</td>\n",
       "      <td>0.411404</td>\n",
       "      <td>0.007391</td>\n",
       "      <td>4</td>\n",
       "    </tr>\n",
       "    <tr>\n",
       "      <th>2</th>\n",
       "      <td>7.010252</td>\n",
       "      <td>2.805393</td>\n",
       "      <td>4.041192</td>\n",
       "      <td>3.180530</td>\n",
       "      <td>0.1</td>\n",
       "      <td>(1, 1)</td>\n",
       "      <td>{'clf__alpha': 0.1, 'vect__ngram_range': (1, 1)}</td>\n",
       "      <td>0.603804</td>\n",
       "      <td>0.625759</td>\n",
       "      <td>0.592548</td>\n",
       "      <td>0.562804</td>\n",
       "      <td>0.545823</td>\n",
       "      <td>0.586148</td>\n",
       "      <td>0.028610</td>\n",
       "      <td>1</td>\n",
       "    </tr>\n",
       "    <tr>\n",
       "      <th>3</th>\n",
       "      <td>24.981339</td>\n",
       "      <td>7.912759</td>\n",
       "      <td>2.281698</td>\n",
       "      <td>0.472917</td>\n",
       "      <td>0.1</td>\n",
       "      <td>(1, 2)</td>\n",
       "      <td>{'clf__alpha': 0.1, 'vect__ngram_range': (1, 2)}</td>\n",
       "      <td>0.582760</td>\n",
       "      <td>0.602673</td>\n",
       "      <td>0.596193</td>\n",
       "      <td>0.559157</td>\n",
       "      <td>0.567721</td>\n",
       "      <td>0.581701</td>\n",
       "      <td>0.016460</td>\n",
       "      <td>2</td>\n",
       "    </tr>\n",
       "  </tbody>\n",
       "</table>\n",
       "</div>"
      ],
      "text/plain": [
       "   mean_fit_time  std_fit_time  mean_score_time  std_score_time  \\\n",
       "0       5.703562      0.288522         1.329843        0.090051   \n",
       "1      24.734096      2.949808         2.536418        0.234567   \n",
       "2       7.010252      2.805393         4.041192        3.180530   \n",
       "3      24.981339      7.912759         2.281698        0.472917   \n",
       "\n",
       "  param_clf__alpha param_vect__ngram_range  \\\n",
       "0                1                  (1, 1)   \n",
       "1                1                  (1, 2)   \n",
       "2              0.1                  (1, 1)   \n",
       "3              0.1                  (1, 2)   \n",
       "\n",
       "                                             params  split0_test_score  \\\n",
       "0    {'clf__alpha': 1, 'vect__ngram_range': (1, 1)}           0.514771   \n",
       "1    {'clf__alpha': 1, 'vect__ngram_range': (1, 2)}           0.420478   \n",
       "2  {'clf__alpha': 0.1, 'vect__ngram_range': (1, 1)}           0.603804   \n",
       "3  {'clf__alpha': 0.1, 'vect__ngram_range': (1, 2)}           0.582760   \n",
       "\n",
       "   split1_test_score  split2_test_score  split3_test_score  split4_test_score  \\\n",
       "0           0.509923           0.521669           0.500000           0.486212   \n",
       "1           0.404617           0.409072           0.419773           0.403082   \n",
       "2           0.625759           0.592548           0.562804           0.545823   \n",
       "3           0.602673           0.596193           0.559157           0.567721   \n",
       "\n",
       "   mean_test_score  std_test_score  rank_test_score  \n",
       "0         0.506515        0.012362                3  \n",
       "1         0.411404        0.007391                4  \n",
       "2         0.586148        0.028610                1  \n",
       "3         0.581701        0.016460                2  "
      ]
     },
     "execution_count": 345,
     "metadata": {},
     "output_type": "execute_result"
    }
   ],
   "source": [
    "cv_results = pd.DataFrame(gs_clf.cv_results_)\n",
    "cv_results"
   ]
  },
  {
   "cell_type": "code",
   "execution_count": 353,
   "metadata": {},
   "outputs": [
    {
     "name": "stdout",
     "output_type": "stream",
     "text": [
      "accuracy 0.4837424633936262\n"
     ]
    }
   ],
   "source": [
    "print('accuracy %s' % accuracy_score(test_data.party, prediction3))"
   ]
  },
  {
   "cell_type": "code",
   "execution_count": 348,
   "metadata": {},
   "outputs": [
    {
     "name": "stdout",
     "output_type": "stream",
     "text": [
      "              precision    recall  f1-score   support\n",
      "\n",
      "           C       0.39      0.27      0.32       671\n",
      "          KD       0.45      0.24      0.31       821\n",
      "           L       0.37      0.26      0.30       560\n",
      "           M       0.44      0.58      0.50      1644\n",
      "          MP       0.32      0.46      0.38       809\n",
      "           S       0.61      0.65      0.63      2773\n",
      "          SD       0.49      0.43      0.45      1060\n",
      "           V       0.50      0.42      0.46       950\n",
      "\n",
      "    accuracy                           0.48      9288\n",
      "   macro avg       0.45      0.41      0.42      9288\n",
      "weighted avg       0.48      0.48      0.48      9288\n",
      "\n"
     ]
    }
   ],
   "source": [
    "cm3 = classification_report(test_data.party, prediction3)\n",
    "print(cm3)"
   ]
  },
  {
   "cell_type": "markdown",
   "metadata": {},
   "source": [
    "## Problem 6: Try to improve your results"
   ]
  },
  {
   "cell_type": "markdown",
   "metadata": {},
   "source": [
    "Scikit-learn makes it easy to test different vectorizer–classifier pipelines – among other things, it includes different types of logistic regression classifiers, support vector machines, and decision trees. Browse the library to see which methods are supported.\n",
    "\n",
    "Build a pipeline that you find interesting, and use grid search to find optimal settings for the hyperparameters. Print the results of your best model. Did you manage to get better results than the ones that you obtained in Problem&nbsp;5? Answer with a short text."
   ]
  },
  {
   "cell_type": "markdown",
   "metadata": {},
   "source": [
    "*Logistic Regression used as a classifier*"
   ]
  },
  {
   "cell_type": "code",
   "execution_count": 360,
   "metadata": {},
   "outputs": [
    {
     "name": "stderr",
     "output_type": "stream",
     "text": [
      "C:\\Users\\Omkar\\Anaconda3\\lib\\site-packages\\sklearn\\linear_model\\logistic.py:432: FutureWarning: Default solver will be changed to 'lbfgs' in 0.22. Specify a solver to silence this warning.\n",
      "  FutureWarning)\n",
      "C:\\Users\\Omkar\\Anaconda3\\lib\\site-packages\\sklearn\\linear_model\\logistic.py:469: FutureWarning: Default multi_class will be changed to 'auto' in 0.22. Specify the multi_class option to silence this warning.\n",
      "  \"this warning.\", FutureWarning)\n"
     ]
    },
    {
     "data": {
      "text/plain": [
       "Pipeline(memory=None,\n",
       "         steps=[('vect',\n",
       "                 CountVectorizer(analyzer='word', binary=False,\n",
       "                                 decode_error='strict',\n",
       "                                 dtype=<class 'numpy.int64'>, encoding='utf-8',\n",
       "                                 input='content', lowercase=True, max_df=1.0,\n",
       "                                 max_features=None, min_df=1,\n",
       "                                 ngram_range=(1, 1), preprocessor=None,\n",
       "                                 stop_words=None, strip_accents=None,\n",
       "                                 token_pattern='(?u)\\\\b\\\\w\\\\w+\\\\b',\n",
       "                                 tokenizer=None, vocabulary=None)),\n",
       "                ('clf',\n",
       "                 LogisticRegression(C=1.0, class_weight=None, dual=False,\n",
       "                                    fit_intercept=True, intercept_scaling=1,\n",
       "                                    l1_ratio=None, max_iter=100,\n",
       "                                    multi_class='warn', n_jobs=None,\n",
       "                                    penalty='l2', random_state=None,\n",
       "                                    solver='warn', tol=0.0001, verbose=0,\n",
       "                                    warm_start=False))],\n",
       "         verbose=False)"
      ]
     },
     "execution_count": 360,
     "metadata": {},
     "output_type": "execute_result"
    }
   ],
   "source": [
    "# TODO: Write code here to search for a better model\n",
    "from sklearn.linear_model import LogisticRegression\n",
    "from sklearn import linear_model\n",
    "lr = Pipeline([('vect', CountVectorizer()),\n",
    "               ('clf', LogisticRegression(),),\n",
    "              ])\n",
    "lr.fit(training_data.words, training_data.party)"
   ]
  },
  {
   "cell_type": "code",
   "execution_count": 350,
   "metadata": {},
   "outputs": [
    {
     "name": "stdout",
     "output_type": "stream",
     "text": [
      "accuracy 0.4992463393626184\n",
      "              precision    recall  f1-score   support\n",
      "\n",
      "           C       0.44      0.34      0.39       671\n",
      "          KD       0.47      0.20      0.28       821\n",
      "           L       0.42      0.30      0.35       560\n",
      "           M       0.50      0.55      0.52      1644\n",
      "          MP       0.30      0.39      0.34       809\n",
      "           S       0.55      0.76      0.64      2773\n",
      "          SD       0.52      0.41      0.46      1060\n",
      "           V       0.60      0.32      0.42       950\n",
      "\n",
      "    accuracy                           0.50      9288\n",
      "   macro avg       0.48      0.41      0.43      9288\n",
      "weighted avg       0.50      0.50      0.48      9288\n",
      "\n"
     ]
    }
   ],
   "source": [
    "predictions4 = lr.predict(test_data.words)\n",
    "print('accuracy %s' % accuracy_score(predictions4, test_data.party))\n",
    "print(classification_report(test_data.party, predictions4))"
   ]
  },
  {
   "cell_type": "code",
   "execution_count": 459,
   "metadata": {},
   "outputs": [
    {
     "data": {
      "text/plain": [
       "Text(33.0, 0.5, 'Predicted Class label')"
      ]
     },
     "execution_count": 459,
     "metadata": {},
     "output_type": "execute_result"
    },
    {
     "data": {
      "image/png": "[encoded data removed]",
      "text/plain": [
       "<Figure size 432x288 with 2 Axes>"
      ]
     },
     "metadata": {
      "needs_background": "light"
     },
     "output_type": "display_data"
    }
   ],
   "source": [
    "cm4 = confusion_matrix(test_data.party, predictions4)\n",
    "sns.heatmap(cm4,annot=True,fmt=\"d\",cmap=\"YlGnBu\")\n",
    "plt.xlabel(\"True Class label\")\n",
    "plt.ylabel(\"Predicted Class label\")"
   ]
  },
  {
   "cell_type": "code",
   "execution_count": 445,
   "metadata": {},
   "outputs": [],
   "source": [
    "#pipeline of feature engineering and model\n",
    "from sklearn.linear_model import SGDClassifier\n",
    "from time import time\n",
    "import logging\n",
    "from pprint import pprint\n",
    "lr = Pipeline([('vect', CountVectorizer()),\n",
    "               ('tfidf', TfidfTransformer()),\n",
    "               ('clf', SGDClassifier(tol=1e-3)),\n",
    "              ])\n",
    "parameters = {\n",
    "    'vect__max_df': (0.5, 0.75, 1.0),\n",
    "     #'vect__max_features': (None, 5000, 10000, 50000),\n",
    "    'vect__ngram_range': ((1, 1), (1, 2)),  # unigrams or bigrams\n",
    "     'tfidf__use_idf': (True, False),\n",
    "     #'tfidf__norm': ('l1', 'l2'),\n",
    "    'clf__max_iter': (20,),\n",
    "    'clf__alpha': (0.00001, 0.000001),\n",
    "    'clf__penalty': ('l2', 'elasticnet'),\n",
    "     #'clf__max_iter': (10, 50, 80),\n",
    "}"
   ]
  },
  {
   "cell_type": "markdown",
   "metadata": {},
   "source": [
    "*SGD classifier model with gridsearch:*"
   ]
  },
  {
   "cell_type": "code",
   "execution_count": 446,
   "metadata": {
    "scrolled": true
   },
   "outputs": [
    {
     "name": "stdout",
     "output_type": "stream",
     "text": [
      "Performing grid search...\n",
      "pipeline: ['vect', 'tfidf', 'clf']\n",
      "parameters:\n",
      "{'clf__alpha': (1e-05, 1e-06),\n",
      " 'clf__max_iter': (20,),\n",
      " 'clf__penalty': ('l2', 'elasticnet'),\n",
      " 'tfidf__use_idf': (True, False),\n",
      " 'vect__max_df': (0.5, 0.75, 1.0),\n",
      " 'vect__ngram_range': ((1, 1), (1, 2))}\n",
      "Fitting 5 folds for each of 48 candidates, totalling 240 fits\n"
     ]
    },
    {
     "name": "stderr",
     "output_type": "stream",
     "text": [
      "[Parallel(n_jobs=-1)]: Using backend LokyBackend with 4 concurrent workers.\n",
      "[Parallel(n_jobs=-1)]: Done  42 tasks      | elapsed:  4.7min\n",
      "[Parallel(n_jobs=-1)]: Done 192 tasks      | elapsed: 23.1min\n",
      "[Parallel(n_jobs=-1)]: Done 240 out of 240 | elapsed: 30.3min finished\n"
     ]
    },
    {
     "name": "stdout",
     "output_type": "stream",
     "text": [
      "done in 1843.896s\n",
      "\n",
      "Best score: 0.661\n",
      "Best parameters set:\n",
      "\tclf__alpha: 1e-05\n",
      "\tclf__max_iter: 20\n",
      "\tclf__penalty: 'elasticnet'\n",
      "\ttfidf__use_idf: True\n",
      "\tvect__max_df: 0.5\n",
      "\tvect__ngram_range: (1, 2)\n"
     ]
    },
    {
     "name": "stderr",
     "output_type": "stream",
     "text": [
      "C:\\Users\\Omkar\\Anaconda3\\lib\\site-packages\\sklearn\\linear_model\\stochastic_gradient.py:561: ConvergenceWarning: Maximum number of iteration reached before convergence. Consider increasing max_iter to improve the fit.\n",
      "  ConvergenceWarning)\n"
     ]
    }
   ],
   "source": [
    "grid_search = GridSearchCV(lr, parameters, cv=5,\n",
    "                               n_jobs=-1, verbose=1)\n",
    "print(\"Performing grid search...\")\n",
    "print(\"pipeline:\", [name for name, _ in lr.steps])\n",
    "print(\"parameters:\")\n",
    "pprint(parameters)\n",
    "t0 = time()\n",
    "grid_search.fit(training_data.words, training_data.party)\n",
    "print(\"done in %0.3fs\" % (time() - t0))\n",
    "print()\n",
    "\n",
    "print(\"Best score: %0.3f\" % grid_search.best_score_)\n",
    "print(\"Best parameters set:\")\n",
    "best_parameters = grid_search.best_estimator_.get_params()\n",
    "for param_name in sorted(parameters.keys()):\n",
    "    print(\"\\t%s: %r\" % (param_name, best_parameters[param_name]))"
   ]
  },
  {
   "cell_type": "code",
   "execution_count": 449,
   "metadata": {},
   "outputs": [
    {
     "data": {
      "text/html": [
       "<div>\n",
       "<style scoped>\n",
       "    .dataframe tbody tr th:only-of-type {\n",
       "        vertical-align: middle;\n",
       "    }\n",
       "\n",
       "    .dataframe tbody tr th {\n",
       "        vertical-align: top;\n",
       "    }\n",
       "\n",
       "    .dataframe thead th {\n",
       "        text-align: right;\n",
       "    }\n",
       "</style>\n",
       "<table border=\"1\" class=\"dataframe\">\n",
       "  <thead>\n",
       "    <tr style=\"text-align: right;\">\n",
       "      <th></th>\n",
       "      <th>mean_fit_time</th>\n",
       "      <th>std_fit_time</th>\n",
       "      <th>mean_score_time</th>\n",
       "      <th>std_score_time</th>\n",
       "      <th>param_clf__alpha</th>\n",
       "      <th>param_vect__ngram_range</th>\n",
       "      <th>params</th>\n",
       "      <th>split0_test_score</th>\n",
       "      <th>split1_test_score</th>\n",
       "      <th>split2_test_score</th>\n",
       "      <th>split3_test_score</th>\n",
       "      <th>split4_test_score</th>\n",
       "      <th>mean_test_score</th>\n",
       "      <th>std_test_score</th>\n",
       "      <th>rank_test_score</th>\n",
       "    </tr>\n",
       "  </thead>\n",
       "  <tbody>\n",
       "    <tr>\n",
       "      <th>0</th>\n",
       "      <td>5.703562</td>\n",
       "      <td>0.288522</td>\n",
       "      <td>1.329843</td>\n",
       "      <td>0.090051</td>\n",
       "      <td>1</td>\n",
       "      <td>(1, 1)</td>\n",
       "      <td>{'clf__alpha': 1, 'vect__ngram_range': (1, 1)}</td>\n",
       "      <td>0.514771</td>\n",
       "      <td>0.509923</td>\n",
       "      <td>0.521669</td>\n",
       "      <td>0.500000</td>\n",
       "      <td>0.486212</td>\n",
       "      <td>0.506515</td>\n",
       "      <td>0.012362</td>\n",
       "      <td>3</td>\n",
       "    </tr>\n",
       "    <tr>\n",
       "      <th>1</th>\n",
       "      <td>24.734096</td>\n",
       "      <td>2.949808</td>\n",
       "      <td>2.536418</td>\n",
       "      <td>0.234567</td>\n",
       "      <td>1</td>\n",
       "      <td>(1, 2)</td>\n",
       "      <td>{'clf__alpha': 1, 'vect__ngram_range': (1, 2)}</td>\n",
       "      <td>0.420478</td>\n",
       "      <td>0.404617</td>\n",
       "      <td>0.409072</td>\n",
       "      <td>0.419773</td>\n",
       "      <td>0.403082</td>\n",
       "      <td>0.411404</td>\n",
       "      <td>0.007391</td>\n",
       "      <td>4</td>\n",
       "    </tr>\n",
       "    <tr>\n",
       "      <th>2</th>\n",
       "      <td>7.010252</td>\n",
       "      <td>2.805393</td>\n",
       "      <td>4.041192</td>\n",
       "      <td>3.180530</td>\n",
       "      <td>0.1</td>\n",
       "      <td>(1, 1)</td>\n",
       "      <td>{'clf__alpha': 0.1, 'vect__ngram_range': (1, 1)}</td>\n",
       "      <td>0.603804</td>\n",
       "      <td>0.625759</td>\n",
       "      <td>0.592548</td>\n",
       "      <td>0.562804</td>\n",
       "      <td>0.545823</td>\n",
       "      <td>0.586148</td>\n",
       "      <td>0.028610</td>\n",
       "      <td>1</td>\n",
       "    </tr>\n",
       "    <tr>\n",
       "      <th>3</th>\n",
       "      <td>24.981339</td>\n",
       "      <td>7.912759</td>\n",
       "      <td>2.281698</td>\n",
       "      <td>0.472917</td>\n",
       "      <td>0.1</td>\n",
       "      <td>(1, 2)</td>\n",
       "      <td>{'clf__alpha': 0.1, 'vect__ngram_range': (1, 2)}</td>\n",
       "      <td>0.582760</td>\n",
       "      <td>0.602673</td>\n",
       "      <td>0.596193</td>\n",
       "      <td>0.559157</td>\n",
       "      <td>0.567721</td>\n",
       "      <td>0.581701</td>\n",
       "      <td>0.016460</td>\n",
       "      <td>2</td>\n",
       "    </tr>\n",
       "  </tbody>\n",
       "</table>\n",
       "</div>"
      ],
      "text/plain": [
       "   mean_fit_time  std_fit_time  mean_score_time  std_score_time  \\\n",
       "0       5.703562      0.288522         1.329843        0.090051   \n",
       "1      24.734096      2.949808         2.536418        0.234567   \n",
       "2       7.010252      2.805393         4.041192        3.180530   \n",
       "3      24.981339      7.912759         2.281698        0.472917   \n",
       "\n",
       "  param_clf__alpha param_vect__ngram_range  \\\n",
       "0                1                  (1, 1)   \n",
       "1                1                  (1, 2)   \n",
       "2              0.1                  (1, 1)   \n",
       "3              0.1                  (1, 2)   \n",
       "\n",
       "                                             params  split0_test_score  \\\n",
       "0    {'clf__alpha': 1, 'vect__ngram_range': (1, 1)}           0.514771   \n",
       "1    {'clf__alpha': 1, 'vect__ngram_range': (1, 2)}           0.420478   \n",
       "2  {'clf__alpha': 0.1, 'vect__ngram_range': (1, 1)}           0.603804   \n",
       "3  {'clf__alpha': 0.1, 'vect__ngram_range': (1, 2)}           0.582760   \n",
       "\n",
       "   split1_test_score  split2_test_score  split3_test_score  split4_test_score  \\\n",
       "0           0.509923           0.521669           0.500000           0.486212   \n",
       "1           0.404617           0.409072           0.419773           0.403082   \n",
       "2           0.625759           0.592548           0.562804           0.545823   \n",
       "3           0.602673           0.596193           0.559157           0.567721   \n",
       "\n",
       "   mean_test_score  std_test_score  rank_test_score  \n",
       "0         0.506515        0.012362                3  \n",
       "1         0.411404        0.007391                4  \n",
       "2         0.586148        0.028610                1  \n",
       "3         0.581701        0.016460                2  "
      ]
     },
     "execution_count": 449,
     "metadata": {},
     "output_type": "execute_result"
    }
   ],
   "source": [
    "cv_results2 = pd.DataFrame(gs_clf.cv_results_)\n",
    "cv_results2"
   ]
  },
  {
   "cell_type": "code",
   "execution_count": 452,
   "metadata": {},
   "outputs": [
    {
     "name": "stdout",
     "output_type": "stream",
     "text": [
      "accuracy 0.5648148148148148\n",
      "              precision    recall  f1-score   support\n",
      "\n",
      "           C       0.59      0.40      0.48       671\n",
      "          KD       0.55      0.30      0.39       821\n",
      "           L       0.52      0.39      0.45       560\n",
      "           M       0.54      0.60      0.57      1644\n",
      "          MP       0.39      0.41      0.40       809\n",
      "           S       0.60      0.80      0.69      2773\n",
      "          SD       0.61      0.52      0.56      1060\n",
      "           V       0.64      0.44      0.52       950\n",
      "\n",
      "    accuracy                           0.56      9288\n",
      "   macro avg       0.55      0.48      0.51      9288\n",
      "weighted avg       0.57      0.56      0.55      9288\n",
      "\n"
     ]
    }
   ],
   "source": [
    "prediction5 = grid_search.predict(test_data.words)\n",
    "print('accuracy %s' % accuracy_score(prediction5, test_data.party))\n",
    "print(classification_report(test_data.party, prediction5))"
   ]
  },
  {
   "cell_type": "code",
   "execution_count": 460,
   "metadata": {},
   "outputs": [
    {
     "data": {
      "text/plain": [
       "Text(33.0, 0.5, 'Predicted Class label')"
      ]
     },
     "execution_count": 460,
     "metadata": {},
     "output_type": "execute_result"
    },
    {
     "data": {
      "image/png": "[encoded data removed]",
      "text/plain": [
       "<Figure size 432x288 with 2 Axes>"
      ]
     },
     "metadata": {
      "needs_background": "light"
     },
     "output_type": "display_data"
    }
   ],
   "source": [
    "cm5 = confusion_matrix(test_data.party, prediction5)\n",
    "sns.heatmap(cm5,annot=True,fmt=\"d\",cmap=\"YlGnBu\")\n",
    "plt.xlabel(\"True Class label\")\n",
    "plt.ylabel(\"Predicted Class label\")"
   ]
  },
  {
   "cell_type": "markdown",
   "metadata": {},
   "source": [
    "*In Question 5 and 6, we optimised the parameters of the Multinomial Naive Bayes\n",
    "Classifier using grid search which yielded an accuracy of 48%. A Logistic Regression gave us an accuracy of 50%. \n",
    "To improve upon the results:\n",
    "A regularised linear classfier with Stochastic Gradient Descent learning whose hyperparameters were optimised as seen above. This yielded an accuracy of 56.48% after 30.3 minutes of learning. A more exhaustive search in the hyperparameters is possible but it is computationally expensive.*"
   ]
  },
  {
   "cell_type": "markdown",
   "metadata": {},
   "source": [
    "<div class=\"alert alert-info\">\n",
    "    Please read the section ‘General information’ on the ‘Labs’ page of the course website before submitting this notebook!\n",
    "</div>"
   ]
  }
 ],
 "metadata": {
  "kernelspec": {
   "display_name": "Python 3",
   "language": "python",
   "name": "python3"
  },
  "language_info": {
   "codemirror_mode": {
    "name": "ipython",
    "version": 3
   },
   "file_extension": ".py",
   "mimetype": "text/x-python",
   "name": "python",
   "nbconvert_exporter": "python",
   "pygments_lexer": "ipython3",
   "version": "3.7.1"
  }
 },
 "nbformat": 4,
 "nbformat_minor": 2
}
